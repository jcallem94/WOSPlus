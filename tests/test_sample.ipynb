{
 "cells": [
  {
   "cell_type": "code",
   "execution_count": 1,
   "metadata": {},
   "outputs": [],
   "source": [
    "import wosplus"
   ]
  },
  {
   "cell_type": "code",
   "execution_count": 2,
   "metadata": {},
   "outputs": [
    {
     "name": "stderr",
     "output_type": "stream",
     "text": [
      "/usr/local/lib/python3.5/dist-packages/wosplus/_wos_scp.py:54: FutureWarning: Using 'rename_axis' to alter labels is deprecated. Use '.rename' instead\n",
      "  return df.rename_axis( dict( (key,prefix+'_'+key) for key in df.columns.values) , axis=1)\n"
     ]
    },
    {
     "name": "stdout",
     "output_type": "stream",
     "text": [
      "before merge: 856\n",
      "....intial: 488\n",
      "final : (464, 96)\n",
      "............intial: 832\n",
      "final : (574, 141)\n",
      "before merge: 856\n",
      "....intial: 488\n",
      "final : (464, 96)\n",
      "............intial: 832\n",
      "final : (574, 141)\n"
     ]
    }
   ],
   "source": [
    "WOS_file='CIB_Wos.xlsx'\n",
    "SCI_file='CIB_Scielo.xlsx'\n",
    "SCP_file='CIB_Scopus.csv'\n",
    "\n",
    "cib=wosplus.wosplus('drive.cfg')\n",
    "\n",
    "cib.load_biblio(WOS_file)\n",
    "cib.load_biblio(SCI_file,prefix='SCI')\n",
    "cib.load_biblio(SCP_file,prefix='SCP')\n",
    "\n",
    "print('before merge: {}'.format( cib.WOS.shape[0]+cib.SCI.shape[0]+cib.SCP.shape[0] )  )\n",
    "\n",
    "cib.merge(left='WOS',right='SCI')\n",
    "\n",
    "if True:\n",
    "    print('intial: {}'.format( cib.WOS.shape[0]+cib.SCI.shape[0]) )\n",
    "    print('final : {}'.format(  cib.WOS_SCI.shape) )\n",
    "\n",
    "cib.merge(left='WOS_SCI',right='SCP')\n",
    "\n",
    "if True:\n",
    "    print('intial: {}'.format( cib.WOS_SCI.shape[0]+cib.SCP.shape[0]) )\n",
    "    print('final : {}'.format(  cib.WOS_SCI_SCP.shape) )"
   ]
  },
  {
   "cell_type": "code",
   "execution_count": null,
   "metadata": {},
   "outputs": [],
   "source": []
  }
 ],
 "metadata": {
  "kernelspec": {
   "display_name": "Python 3",
   "language": "python",
   "name": "python3"
  },
  "language_info": {
   "codemirror_mode": {
    "name": "ipython",
    "version": 3
   },
   "file_extension": ".py",
   "mimetype": "text/x-python",
   "name": "python",
   "nbconvert_exporter": "python",
   "pygments_lexer": "ipython3",
   "version": "3.5.2"
  }
 },
 "nbformat": 4,
 "nbformat_minor": 2
}
